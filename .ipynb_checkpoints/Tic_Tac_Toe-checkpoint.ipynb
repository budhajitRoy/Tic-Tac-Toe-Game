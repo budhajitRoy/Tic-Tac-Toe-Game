{
 "cells": [
  {
   "cell_type": "markdown",
   "metadata": {},
   "source": [
    "# Tic Tac Toe Game - Project"
   ]
  },
  {
   "cell_type": "markdown",
   "metadata": {},
   "source": [
    "#### Below are the set of rules on how the game will be set up:\n",
    "Take inputs from a user:\n",
    "\n",
    "    player1 = input(\"Please pick a marker 'X' or 'O'\")\n",
    "    position = int(input('Please enter a number'))"
   ]
  },
  {
   "cell_type": "markdown",
   "metadata": {},
   "source": [
    "**First lets write a function that can print out a board. Set up your board as a list, where each index 1-9 corresponds with a number on a number pad, so you get a 3 by 3 board representation.**"
   ]
  },
  {
   "cell_type": "code",
   "execution_count": 71,
   "metadata": {},
   "outputs": [],
   "source": [
    "board = ['#','X','O','X','O','X','O','X','O','X']\n",
    "board1 = ['#','1','2','3','4','5','6','7','8','9',]\n",
    "\n",
    "def display(board):\n",
    "    row1 = board[7:10]\n",
    "    row2 = board[4:7]\n",
    "    row3 = board[1:4]\n",
    "\n",
    "    def display_rows(row):\n",
    "        for i in range(len(row)):\n",
    "            print(row[i], end = \" \")\n",
    "            if i != len(row)-1:\n",
    "                print(\"|\", end = \" \")\n",
    "                            \n",
    "    display_rows(row1)\n",
    "    print()\n",
    "    print(\"-- --- ---\")\n",
    "    display_rows(row2)\n",
    "    print()\n",
    "    print(\"-- --- ---\")\n",
    "    display_rows(row3)   "
   ]
  },
  {
   "cell_type": "code",
   "execution_count": 1,
   "metadata": {},
   "outputs": [],
   "source": [
    "# for clearing the output in the display\n",
    "from IPython.display import clear_output\n",
    "\n",
    "def display_board(board):\n",
    "    clear_output()\n",
    "    \n",
    "    row1 = board[7:10]\n",
    "    row2 = board[4:7]\n",
    "    row3 = board[1:4]\n",
    "\n",
    "    def display_rows(row):\n",
    "        for i in range(len(row)):\n",
    "            print(row[i], end = \" \")\n",
    "            if i != len(row)-1:\n",
    "                print(\"|\", end = \" \")\n",
    "                            \n",
    "    display_rows(row1)\n",
    "    print()\n",
    "    print(\"-- --- ---\")\n",
    "    display_rows(row2)\n",
    "    print()\n",
    "    print(\"-- --- ---\")\n",
    "    display_rows(row3) "
   ]
  },
  {
   "cell_type": "markdown",
   "metadata": {},
   "source": [
    "**TEST Step 1:** Lets run your function on a test version of the board list, and make adjustments as necessary"
   ]
  },
  {
   "cell_type": "code",
   "execution_count": 73,
   "metadata": {},
   "outputs": [
    {
     "name": "stdout",
     "output_type": "stream",
     "text": [
      "X | O | X \n",
      "-- --- ---\n",
      "O | X | O \n",
      "-- --- ---\n",
      "X | O | X "
     ]
    }
   ],
   "source": [
    "test_board = ['#','X','O','X','O','X','O','X','O','X']\n",
    "display_board(test_board)"
   ]
  },
  {
   "cell_type": "markdown",
   "metadata": {},
   "source": [
    "**Step 2: Write a function that can take in a player input and assign their marker as 'X' or 'O'. **"
   ]
  },
  {
   "cell_type": "code",
   "execution_count": 2,
   "metadata": {},
   "outputs": [],
   "source": [
    "def player_input():\n",
    "    \n",
    "    user_input = \"wrong\"\n",
    "    \n",
    "    while user_input not in ['X','O']:\n",
    "        user_input = input(\"Please enter an input ('X','O'): \")\n",
    "    \n",
    "        if user_input not in ['X','O']:\n",
    "            print(\"Please enter a valid input which is either 'X' or 'O'\")\n",
    "    return user_input"
   ]
  },
  {
   "cell_type": "markdown",
   "metadata": {},
   "source": [
    "**TEST Step 2:** run the function to make sure it returns the desired output"
   ]
  },
  {
   "cell_type": "code",
   "execution_count": 75,
   "metadata": {},
   "outputs": [
    {
     "name": "stdout",
     "output_type": "stream",
     "text": [
      "Please enter an input ('X','O')X\n"
     ]
    }
   ],
   "source": [
    "player_input()"
   ]
  },
  {
   "cell_type": "markdown",
   "metadata": {},
   "source": [
    "**Step 3: Write a function that takes in the board list object, a marker ('X' or 'O'), and a desired position (number 1-9) and assigns it to the board.**"
   ]
  },
  {
   "cell_type": "code",
   "execution_count": 3,
   "metadata": {},
   "outputs": [],
   "source": [
    "def place_marker(board, marker, position):\n",
    "    \n",
    "    board[int(position)] = marker\n",
    "    return board"
   ]
  },
  {
   "cell_type": "markdown",
   "metadata": {},
   "source": [
    "**TEST Step 3:** run the place marker function using test parameters and display the modified board"
   ]
  },
  {
   "cell_type": "code",
   "execution_count": 77,
   "metadata": {},
   "outputs": [
    {
     "name": "stdout",
     "output_type": "stream",
     "text": [
      "X | $ | X \n",
      "-- --- ---\n",
      "O | X | O \n",
      "-- --- ---\n",
      "X | O | X "
     ]
    }
   ],
   "source": [
    "place_marker(test_board,'$',8)\n",
    "display_board(test_board)"
   ]
  },
  {
   "cell_type": "markdown",
   "metadata": {},
   "source": [
    "**Step 4: Write a function that takes in a board and a mark (X or O) and then checks to see if that mark has won. **"
   ]
  },
  {
   "cell_type": "code",
   "execution_count": 4,
   "metadata": {},
   "outputs": [],
   "source": [
    "def win_check(board, mark):\n",
    "    \n",
    "    if board[1] == mark and board[2] == mark and board[3] == mark:\n",
    "        return True\n",
    "    elif board[4] == mark and board[5] == mark and board[6] == mark:\n",
    "        return True\n",
    "    elif board[7] == mark and board[8] == mark and board[9] == mark:\n",
    "        return True\n",
    "    elif board[1] == mark and board[5] == mark and board[9] == mark:\n",
    "        return True\n",
    "    elif board[3] == mark and board[5] == mark and board[7] == mark:\n",
    "        return True\n",
    "    elif board[1] == mark and board[4] == mark and board[7] == mark:\n",
    "        return True\n",
    "    elif board[2] == mark and board[5] == mark and board[8] == mark:\n",
    "        return True\n",
    "    elif board[3] == mark and board[6] == mark and board[9] == mark:\n",
    "        return True\n",
    "    else:\n",
    "        return False    "
   ]
  },
  {
   "cell_type": "markdown",
   "metadata": {},
   "source": [
    "**TEST Step 4:** run the win_check function against our test_board - it should return True"
   ]
  },
  {
   "cell_type": "code",
   "execution_count": 79,
   "metadata": {},
   "outputs": [
    {
     "data": {
      "text/plain": [
       "True"
      ]
     },
     "execution_count": 79,
     "metadata": {},
     "output_type": "execute_result"
    }
   ],
   "source": [
    "win_check(test_board,'X')"
   ]
  },
  {
   "cell_type": "markdown",
   "metadata": {},
   "source": [
    "**Step 5: Write a function that uses the random module to randomly decide which player goes first. We'll use random.randint(). We will return a string of which player went first.**"
   ]
  },
  {
   "cell_type": "code",
   "execution_count": 5,
   "metadata": {},
   "outputs": [],
   "source": [
    "import random\n",
    "\n",
    "#print(random.randint(0,1))\n",
    "def choose_first():\n",
    "    if random.randint(0,1) == 0:\n",
    "        print(\"Player1 goes first\")\n",
    "        return \"Player 1\"\n",
    "    else:\n",
    "        print(\"Player2 goes first\")\n",
    "        return \"Player 2\"\n"
   ]
  },
  {
   "cell_type": "code",
   "execution_count": 74,
   "metadata": {},
   "outputs": [
    {
     "name": "stdout",
     "output_type": "stream",
     "text": [
      "Player2 goes first\n",
      "Player 2\n",
      "Player 1\n"
     ]
    }
   ],
   "source": [
    "player = choose_first()\n",
    "print(player)\n",
    "if str(player).lower() == 'player 1' :\n",
    "    player = \"Player 2\"\n",
    "else:\n",
    "    player = 'Player 1'\n",
    "print(player)"
   ]
  },
  {
   "cell_type": "code",
   "execution_count": 50,
   "metadata": {},
   "outputs": [
    {
     "name": "stdout",
     "output_type": "stream",
     "text": [
      "1\n"
     ]
    }
   ],
   "source": [
    "print(random.randint(0,1))"
   ]
  },
  {
   "cell_type": "markdown",
   "metadata": {},
   "source": [
    "**Step 6: Write a function that returns a boolean indicating whether a space on the board is freely available.**"
   ]
  },
  {
   "cell_type": "code",
   "execution_count": 7,
   "metadata": {},
   "outputs": [],
   "source": [
    "def space_check(board, position):\n",
    "    return board[position] == ' '"
   ]
  },
  {
   "cell_type": "markdown",
   "metadata": {},
   "source": [
    "**Step 7: Write a function that checks if the board is full and returns a boolean value. True if full, False otherwise.**"
   ]
  },
  {
   "cell_type": "code",
   "execution_count": 8,
   "metadata": {},
   "outputs": [],
   "source": [
    "def full_board_check(board):\n",
    "    \n",
    "    for i in range(1, len(board)):\n",
    "        if space_check(board, i):\n",
    "            return False\n",
    "    return True"
   ]
  },
  {
   "cell_type": "markdown",
   "metadata": {},
   "source": [
    "**Step 8: Write a function that asks for a player's next position (as a number 1-9) and then uses the function from step 6 to check if it's a free position. If it is, then return the position for later use.**"
   ]
  },
  {
   "cell_type": "code",
   "execution_count": 9,
   "metadata": {},
   "outputs": [],
   "source": [
    "def player_choice(board):\n",
    "    \n",
    "    next_position = \"\"\n",
    "    while True:\n",
    "        next_position = input(\"Please enter the position where you want to put the marker : position from 1 to 9: \")\n",
    "        if next_position.isdigit() and int(next_position) in range(1,10):\n",
    "            next_position = int(next_position)\n",
    "            #print(next_position)\n",
    "            if space_check(board, next_position):\n",
    "                return int(next_position)\n",
    "            else:\n",
    "                print(\"The position is already taken. Please provide another input position\")\n",
    "                continue\n",
    "        else:\n",
    "            print(\"Provide a valid input position.\")\n",
    "            continue\n",
    "    "
   ]
  },
  {
   "cell_type": "code",
   "execution_count": 3,
   "metadata": {},
   "outputs": [
    {
     "name": "stdout",
     "output_type": "stream",
     "text": [
      "Please enter the position where you want to put the marker : position from 1 to 92\n",
      "Provide a valid input position.\n"
     ]
    }
   ],
   "source": [
    "player_choice(board)"
   ]
  },
  {
   "cell_type": "code",
   "execution_count": 8,
   "metadata": {},
   "outputs": [
    {
     "name": "stdout",
     "output_type": "stream",
     "text": [
      "Please enter the position where you want to put the marker : position from 1 to 94\n",
      "True\n"
     ]
    }
   ],
   "source": [
    "next_position = input(\"Please enter the position where you want to put the marker : position from 1 to 9\")\n",
    "\n",
    "if int(next_position) in range(1,10):\n",
    "    print(\"True\")\n",
    "else:\n",
    "    print(\"Not in range\")"
   ]
  },
  {
   "cell_type": "markdown",
   "metadata": {},
   "source": [
    "**Step 9: Write a function that asks the player if they want to play again and returns a boolean True if they do want to play again.**"
   ]
  },
  {
   "cell_type": "code",
   "execution_count": 10,
   "metadata": {},
   "outputs": [],
   "source": [
    "def replay():\n",
    "    play_again  = \"\"\n",
    "    while play_again not in ['yes','no']:\n",
    "        play_again = input(\"Do you want to play again ('yes' or 'no')?\")\n",
    "        if play_again not in ['yes','no']:\n",
    "            print(\"Please provide a valid input\")\n",
    "        else:\n",
    "            if play_again == 'yes':\n",
    "                return True\n",
    "            else:\n",
    "                return False            "
   ]
  },
  {
   "cell_type": "markdown",
   "metadata": {
    "collapsed": true
   },
   "source": [
    "**Step 10: Lets write the main logic to run all the functions that we have written so far to run the game!**"
   ]
  },
  {
   "cell_type": "code",
   "execution_count": null,
   "metadata": {},
   "outputs": [
    {
     "name": "stdout",
     "output_type": "stream",
     "text": [
      "Initial Board Display. Please note the markings of the cell.\n",
      "\n",
      "7 | 8 | 9 \n",
      "-- --- ---\n",
      "4 | 5 | 6 \n",
      "-- --- ---\n",
      "1 | 2 | 3 \n",
      "Lets decide which player to go first\n",
      "Player2 goes first\n",
      "Player 2\n",
      "Please enter an input ('X','O'): O\n",
      "Please enter the position where you want to put the marker : position from 1 to 9: 2\n",
      "  |   |   \n",
      "-- --- ---\n",
      "  |   |   \n",
      "-- --- ---\n",
      "  | O |   \n",
      "Now is Player 1's turn\n",
      "Please enter the position where you want to put the marker : position from 1 to 9: 5\n",
      "  |   |   \n",
      "-- --- ---\n",
      "  | X |   \n",
      "-- --- ---\n",
      "  | O |   \n",
      "Now is Player 2's turn\n",
      "Please enter the position where you want to put the marker : position from 1 to 9: 4\n",
      "  |   |   \n",
      "-- --- ---\n",
      "O | X |   \n",
      "-- --- ---\n",
      "  | O |   \n",
      "Now is Player 1's turn\n",
      "Please enter the position where you want to put the marker : position from 1 to 9: 6\n",
      "  |   |   \n",
      "-- --- ---\n",
      "O | X | X \n",
      "-- --- ---\n",
      "  | O |   \n",
      "Now is Player 2's turn\n",
      "Please enter the position where you want to put the marker : position from 1 to 9: 7\n",
      "O |   |   \n",
      "-- --- ---\n",
      "O | X | X \n",
      "-- --- ---\n",
      "  | O |   \n",
      "Now is Player 1's turn\n",
      "Please enter the position where you want to put the marker : position from 1 to 9: 8\n",
      "O | X |   \n",
      "-- --- ---\n",
      "O | X | X \n",
      "-- --- ---\n",
      "  | O |   \n",
      "Now is Player 2's turn\n",
      "Please enter the position where you want to put the marker : position from 1 to 9: 1\n",
      "O | X |   \n",
      "-- --- ---\n",
      "O | X | X \n",
      "-- --- ---\n",
      "O | O |   \n",
      "Player 2 wins the game. Congratulations!!\n"
     ]
    }
   ],
   "source": [
    "#### print('Welcome to Tic Tac Toe!')\n",
    "\n",
    "while True:\n",
    "    \n",
    "    #initialize board\n",
    "    board = [' '] * 10\n",
    "    board1 = ['#','1','2','3','4','5','6','7','8','9']\n",
    "    print(\"Initial Board Display. Please note the markings of the cell.\")\n",
    "    print()\n",
    "    display_board(board1)\n",
    "    # Set the game up here\n",
    "    print()\n",
    "    print(\"Lets decide which player to go first\")\n",
    "    player = choose_first() \n",
    "    user_input = player_input()\n",
    "    game_on = True\n",
    "\n",
    "    while game_on:\n",
    "        #Player 1 Turn\n",
    "\n",
    "        #check if the board is not full\n",
    "        board_full = full_board_check(board)\n",
    "        if board_full:\n",
    "            print(\"The board is full. Will need to start a new game\")\n",
    "            break\n",
    "        else:  \n",
    "            # if board not full, get the marker input from the player\n",
    "            # get the position\n",
    "            position = player_choice(board)\n",
    "            #place marker\n",
    "            place_marker(board, user_input, position)\n",
    "\n",
    "            # display board\n",
    "            display_board(board)\n",
    "            print()\n",
    "            #check if current player wins\n",
    "            winner = win_check(board, user_input)\n",
    "            if winner:\n",
    "                print(\"{} wins the game. Congratulations!!\".format(player))\n",
    "                break\n",
    "            else:\n",
    "                if player.lower() == \"player 1\":\n",
    "                    player = \"Player 2\"\n",
    "                else:\n",
    "                    player = 'Player 1'\n",
    "                  \n",
    "                print(\"Now is {}'s turn\".format(player))\n",
    "\n",
    "                if user_input == 'X':\n",
    "                    user_input = 'O'\n",
    "                else:\n",
    "                    user_input = 'X'           \n",
    "\n",
    "    #exit the game as the player doesn't want to play anymore:\n",
    "    want_to_play_again = replay()\n",
    "    if not want_to_play_again: \n",
    "        break"
   ]
  },
  {
   "cell_type": "markdown",
   "metadata": {
    "collapsed": true
   },
   "source": [
    "## Thank you!!"
   ]
  }
 ],
 "metadata": {
  "kernelspec": {
   "display_name": "Python 3 (ipykernel)",
   "language": "python",
   "name": "python3"
  },
  "language_info": {
   "codemirror_mode": {
    "name": "ipython",
    "version": 3
   },
   "file_extension": ".py",
   "mimetype": "text/x-python",
   "name": "python",
   "nbconvert_exporter": "python",
   "pygments_lexer": "ipython3",
   "version": "3.9.5"
  }
 },
 "nbformat": 4,
 "nbformat_minor": 1
}
